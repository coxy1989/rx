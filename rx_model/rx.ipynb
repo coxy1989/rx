{
 "cells": [
  {
   "cell_type": "code",
   "execution_count": 119,
   "metadata": {},
   "outputs": [],
   "source": [
    "from html.parser import HTMLParser\n",
    "from keras.preprocessing import sequence\n",
    "from keras.models import Model\n",
    "from keras.layers import LSTM, Dense, Input, TimeDistributed\n",
    "import pandas as pd\n",
    "import numpy as np\n",
    "import keras"
   ]
  },
  {
   "cell_type": "code",
   "execution_count": 131,
   "metadata": {
    "scrolled": false
   },
   "outputs": [],
   "source": [
    "# hacks\n",
    "# - scraped from: https://bnf.nice.org.uk/drug/\n",
    "# - To obtain links: use .html suffic on hrefs\n",
    "# - To obtain drugs: use all caps.\n",
    "# - Last 3 drugs no good\n",
    "# - First link no good\n",
    "# - Amended ANTI-D (RH0) IMMUNOGLOBULIN entry in the html to remove <sub> tag\n",
    "\n",
    "class RxParser(HTMLParser):\n",
    "    \n",
    "    def __init__(self):\n",
    "        super().__init__()\n",
    "        self.links = []\n",
    "        self.drugs = []\n",
    "    \n",
    "    def handle_starttag(self, tag, attrs):\n",
    "        if len(attrs) > 0 and attrs[0][0] == 'href' and attrs[0][1][-5:] == '.html':\n",
    "            self.links.append(attrs[0][1])\n",
    "            \n",
    "    def handle_data(self, data):\n",
    "        if data.isupper() and len(data) > 1:\n",
    "            self.drugs.append(data)\n",
    "    \n",
    "    def feed(self, f):\n",
    "        super().feed(f)\n",
    "        return (self.drugs[:-3], self.links[1:])\n",
    "        \n",
    "f = open('./data/drugs.html').read()\n",
    "p = RxParser()\n",
    "drugs, links = p.feed(f)\n",
    "assert(len(drugs) == len(links))\n",
    "drugs, links = pd.Series(drugs), pd.Series(links)"
   ]
  },
  {
   "cell_type": "code",
   "execution_count": 137,
   "metadata": {},
   "outputs": [
    {
     "data": {
      "text/plain": [
       "27            ADRENALINE/EPINEPHRINE\n",
       "1081    NORADRENALINE/NOREPINEPHRINE\n",
       "dtype: object"
      ]
     },
     "execution_count": 137,
     "metadata": {},
     "output_type": "execute_result"
    }
   ],
   "source": [
    "drugs[drugs.str.contains('É')]\n",
    "drugs[drugs.str.contains('\\'')]\n",
    "drugs[drugs.str.contains('/')]"
   ]
  },
  {
   "cell_type": "code",
   "execution_count": 138,
   "metadata": {},
   "outputs": [],
   "source": [
    "drop_idxs = drugs.str.contains('WITH')\n",
    "drugs, links = drugs[~drop_idxs], links[~drop_idxs]\n",
    "assert(len(drugs) == len(links))"
   ]
  },
  {
   "cell_type": "code",
   "execution_count": 139,
   "metadata": {},
   "outputs": [
    {
     "name": "stdout",
     "output_type": "stream",
     "text": [
      "40\n",
      "68\n"
     ]
    }
   ],
   "source": [
    "def to_categorical(batch, num_classes):\n",
    "    b, l = batch.shape\n",
    "    out = np.zeros((b, l, num_classes))\n",
    "    for i in range(b):\n",
    "        seq = batch[i, :]\n",
    "        out[i, :, :] = keras.utils.to_categorical(seq, num_classes=num_classes)\n",
    "    return out\n",
    "\n",
    "def rx_data(words):\n",
    "    chars = sorted(set(''.join(words)))\n",
    "    chars = ['START', 'END'] + chars\n",
    "    char_idx = { ch:i for i,ch in enumerate(chars) }\n",
    "    idx_char = { i:ch for i,ch in enumerate(chars) }\n",
    "    print(len(chars))\n",
    "    x = ([[char_idx[c] for c in w] for w in words])\n",
    "    max_len = max([len(s) for s in x])\n",
    "    print(max_len)\n",
    "    x = sequence.pad_sequences(x, max_len, padding='post', value=1)\n",
    "    n = x.shape[0]\n",
    "    x_in = np.concatenate([np.zeros([n, 1]), x[:, :-1]], axis=1)\n",
    "    x_out = x\n",
    "    assert x_in.shape == x_out.shape\n",
    "    x_in = to_categorical(x_in, len(chars))\n",
    "    x_out = to_categorical(x_out, len(chars))\n",
    "    return idx_char, max_len, chars, x_in, x_out\n",
    "\n",
    "idx_char, max_len, chars, x_in, x_out = rx_data(drugs)\n",
    "num_chars = len(chars)"
   ]
  },
  {
   "cell_type": "code",
   "execution_count": 140,
   "metadata": {},
   "outputs": [
    {
     "name": "stdout",
     "output_type": "stream",
     "text": [
      "GRMSTARTÉ/-SI(IJ5'X0(PYMAS(QWI\n",
      "OSTARTX\n",
      "' A5ZL5KIFDBA1STARTO X5XYY1YG,Q-I5J3XUPJSTARTGD-FQNIV-CLW/FQR)WCRL1J\n",
      "RCXYVSTART,0EJJC5UEJLQBPU3UWXN1 HV-TZK(S)OSTARTLSTARTNGG,V5EA-HOIHZDD\n",
      "50I1ZTT,E\n"
     ]
    }
   ],
   "source": [
    "hidden_size = 10\n",
    "ins = Input(shape=[None, num_chars])\n",
    "lstm = LSTM(10, return_sequences=True, return_state=True)\n",
    "hs, _, _ = lstm(ins)\n",
    "dense = Dense(num_chars, activation='softmax')\n",
    "outs = dense(hs)\n",
    "train_model = Model(inputs=ins, outputs=outs)\n",
    "\n",
    "inf_model_h = Input(shape=(hidden_size,))\n",
    "inf_model_c = Input(shape=(hidden_size,))\n",
    "hs, h, c = lstm(ins, initial_state=[inf_model_h, inf_model_c])\n",
    "outs = dense(hs) \n",
    "inf_model = Model(inputs=[ins, inf_model_h, inf_model_c],\n",
    "                  outputs=[outs, h, c])\n",
    "\n",
    "\n",
    "def generate():\n",
    "    h0 = np.zeros([1, hidden_size])\n",
    "    c0 = np.zeros([1, hidden_size])\n",
    "    x0 = np.zeros([1, 1, num_chars])\n",
    "    x0[0, 0, 0] = 1\n",
    "    word = ''\n",
    "    stop_condition = False\n",
    "    while not stop_condition:\n",
    "        out, h, c = inf_model.predict([x0, h0, c0])\n",
    "        #idx = np.argmax(out[0, -1, :])\n",
    "        idx = np.random.choice(range(num_chars), p=(out[0, -1, :]))\n",
    "        char = idx_char[idx]        \n",
    "        if char == 'END' or len(word) > max_len:\n",
    "            stop_condition = True\n",
    "            break\n",
    "        \n",
    "        word += char\n",
    "        x0 = np.zeros([1, 1, num_chars])\n",
    "        x0[0,0,idx] = 1\n",
    "        h0 = h\n",
    "        c0 = c\n",
    "        \n",
    "    print(word)\n",
    "    return word\n",
    "\n",
    "\n",
    "def generate_n(n):\n",
    "    for _ in range(n):\n",
    "        generate()\n",
    "        \n",
    "generate_n(5)"
   ]
  },
  {
   "cell_type": "code",
   "execution_count": 171,
   "metadata": {},
   "outputs": [
    {
     "name": "stdout",
     "output_type": "stream",
     "text": [
      "TAZRINEUM\n",
      "ENSOSS\n",
      "VALLOTON CALBOGLULE\n",
      "CROASGIG, (HLYLORHER\n",
      "ABETOSE HACLICA\n"
     ]
    }
   ],
   "source": [
    "generate_n(5)"
   ]
  },
  {
   "cell_type": "code",
   "execution_count": 142,
   "metadata": {},
   "outputs": [
    {
     "name": "stdout",
     "output_type": "stream",
     "text": [
      "Epoch 1/20\n",
      "1325/1325 [==============================] - 147s 111ms/step - loss: 0.5940\n",
      "ALOTATIE\n",
      "IGARKITI  DULIU\n",
      "PUEFEVLINE\n",
      "LACPODIMINEMATE\n",
      "ROCAMEIME\n",
      "Epoch 2/20\n",
      "1325/1325 [==============================] - 146s 110ms/step - loss: 0.5411\n",
      "CHZLATIBE BLOL\n",
      "APIFADILASENEHDERDARIONAMIASAIEMATRYDESACIROBANM POVTADEMETTALIN OLRI\n",
      "MURIUCTIM(ORAN ENYYDOMOTOMEMHIDE\n",
      "LOALMUGCARLORUREDE\n",
      "VOMILINABAMONE ,INONORATITATIE\n",
      "Epoch 3/20\n",
      "1325/1325 [==============================] - 148s 112ms/step - loss: 0.5186\n",
      "CALRAYCROROLDAN )ACTOL\n",
      "BIBUUCATEANE\n",
      "EZEPOSNIUS\n",
      "MECREXANS\n",
      "MUPEHUCALM\n",
      "Epoch 4/20\n",
      "1325/1325 [==============================] - 120s 91ms/step - loss: 0.5030\n",
      "ZESOLMOBUET)\n",
      "FELHAZINE PAVATE\n",
      "CIXARIN PHOTOREST ALIPIN\n",
      "VONTRAMISE SOMONETHINUTA\n",
      "EPGENMUCUT ACSM\n",
      "Epoch 5/20\n",
      "1325/1325 [==============================] - 143s 108ms/step - loss: 0.4926\n",
      "IFUMOCRENG\n",
      "OUXPEDINE\n",
      "OLONIDIDIN\n",
      "HIGRORONE\n",
      "KINNINEVAT (ADIMISUBTODE\n",
      "Epoch 6/20\n",
      "1325/1325 [==============================] - 141s 106ms/step - loss: 0.4847\n",
      "TODAZESTE PYRMIDE\n",
      "TRAPEVOLIS\n",
      "TRIDINBOCTATE\n",
      "PASCRIMETIN\n",
      "APAPIL\n",
      "Epoch 7/20\n",
      "1325/1325 [==============================] - 143s 108ms/step - loss: 0.4787\n",
      "CALCSIC ACTAM\n",
      "BEZROLAZTRIDE\n",
      "BINENINFGLYNIUTEGIDED\n",
      "CHOLISOAL DING\n",
      "PARE\n",
      "Epoch 8/20\n",
      "1325/1325 [==============================] - 140s 106ms/step - loss: 0.4739\n",
      "TREASTAZIME\n",
      "PTIMONZOXEDPHYNELIFE\n",
      "UVISACINT DOPROE\n",
      "SITIPRAM EXICHRACA SACMLETENTAMILETTROSINE INEC ROMICACIPE\n",
      "MYVECHCHLODINE\n",
      "Epoch 9/20\n",
      " 746/1325 [===============>..............] - ETA: 1:03 - loss: 0.4599"
     ]
    },
    {
     "ename": "KeyboardInterrupt",
     "evalue": "",
     "output_type": "error",
     "traceback": [
      "\u001b[0;31m---------------------------------------------------------------------------\u001b[0m",
      "\u001b[0;31mKeyboardInterrupt\u001b[0m                         Traceback (most recent call last)",
      "\u001b[0;32m<ipython-input-142-a67851970461>\u001b[0m in \u001b[0;36m<module>\u001b[0;34m\u001b[0m\n\u001b[1;32m      8\u001b[0m                 \u001b[0mepochs\u001b[0m\u001b[0;34m=\u001b[0m\u001b[0;36m20\u001b[0m\u001b[0;34m,\u001b[0m\u001b[0;34m\u001b[0m\u001b[0;34m\u001b[0m\u001b[0m\n\u001b[1;32m      9\u001b[0m                 \u001b[0mbatch_size\u001b[0m\u001b[0;34m=\u001b[0m\u001b[0;36m1\u001b[0m\u001b[0;34m,\u001b[0m\u001b[0;34m\u001b[0m\u001b[0;34m\u001b[0m\u001b[0m\n\u001b[0;32m---> 10\u001b[0;31m                 callbacks=[generate_stuff])\n\u001b[0m",
      "\u001b[0;32m~/miniconda3/envs/tf_warmup/lib/python3.6/site-packages/keras/engine/training.py\u001b[0m in \u001b[0;36mfit\u001b[0;34m(self, x, y, batch_size, epochs, verbose, callbacks, validation_split, validation_data, shuffle, class_weight, sample_weight, initial_epoch, steps_per_epoch, validation_steps, **kwargs)\u001b[0m\n\u001b[1;32m   1037\u001b[0m                                         \u001b[0minitial_epoch\u001b[0m\u001b[0;34m=\u001b[0m\u001b[0minitial_epoch\u001b[0m\u001b[0;34m,\u001b[0m\u001b[0;34m\u001b[0m\u001b[0;34m\u001b[0m\u001b[0m\n\u001b[1;32m   1038\u001b[0m                                         \u001b[0msteps_per_epoch\u001b[0m\u001b[0;34m=\u001b[0m\u001b[0msteps_per_epoch\u001b[0m\u001b[0;34m,\u001b[0m\u001b[0;34m\u001b[0m\u001b[0;34m\u001b[0m\u001b[0m\n\u001b[0;32m-> 1039\u001b[0;31m                                         validation_steps=validation_steps)\n\u001b[0m\u001b[1;32m   1040\u001b[0m \u001b[0;34m\u001b[0m\u001b[0m\n\u001b[1;32m   1041\u001b[0m     def evaluate(self, x=None, y=None,\n",
      "\u001b[0;32m~/miniconda3/envs/tf_warmup/lib/python3.6/site-packages/keras/engine/training_arrays.py\u001b[0m in \u001b[0;36mfit_loop\u001b[0;34m(model, f, ins, out_labels, batch_size, epochs, verbose, callbacks, val_f, val_ins, shuffle, callback_metrics, initial_epoch, steps_per_epoch, validation_steps)\u001b[0m\n\u001b[1;32m    197\u001b[0m                     \u001b[0mins_batch\u001b[0m\u001b[0;34m[\u001b[0m\u001b[0mi\u001b[0m\u001b[0;34m]\u001b[0m \u001b[0;34m=\u001b[0m \u001b[0mins_batch\u001b[0m\u001b[0;34m[\u001b[0m\u001b[0mi\u001b[0m\u001b[0;34m]\u001b[0m\u001b[0;34m.\u001b[0m\u001b[0mtoarray\u001b[0m\u001b[0;34m(\u001b[0m\u001b[0;34m)\u001b[0m\u001b[0;34m\u001b[0m\u001b[0;34m\u001b[0m\u001b[0m\n\u001b[1;32m    198\u001b[0m \u001b[0;34m\u001b[0m\u001b[0m\n\u001b[0;32m--> 199\u001b[0;31m                 \u001b[0mouts\u001b[0m \u001b[0;34m=\u001b[0m \u001b[0mf\u001b[0m\u001b[0;34m(\u001b[0m\u001b[0mins_batch\u001b[0m\u001b[0;34m)\u001b[0m\u001b[0;34m\u001b[0m\u001b[0;34m\u001b[0m\u001b[0m\n\u001b[0m\u001b[1;32m    200\u001b[0m                 \u001b[0mouts\u001b[0m \u001b[0;34m=\u001b[0m \u001b[0mto_list\u001b[0m\u001b[0;34m(\u001b[0m\u001b[0mouts\u001b[0m\u001b[0;34m)\u001b[0m\u001b[0;34m\u001b[0m\u001b[0;34m\u001b[0m\u001b[0m\n\u001b[1;32m    201\u001b[0m                 \u001b[0;32mfor\u001b[0m \u001b[0ml\u001b[0m\u001b[0;34m,\u001b[0m \u001b[0mo\u001b[0m \u001b[0;32min\u001b[0m \u001b[0mzip\u001b[0m\u001b[0;34m(\u001b[0m\u001b[0mout_labels\u001b[0m\u001b[0;34m,\u001b[0m \u001b[0mouts\u001b[0m\u001b[0;34m)\u001b[0m\u001b[0;34m:\u001b[0m\u001b[0;34m\u001b[0m\u001b[0;34m\u001b[0m\u001b[0m\n",
      "\u001b[0;32m~/miniconda3/envs/tf_warmup/lib/python3.6/site-packages/keras/backend/tensorflow_backend.py\u001b[0m in \u001b[0;36m__call__\u001b[0;34m(self, inputs)\u001b[0m\n\u001b[1;32m   2713\u001b[0m                 \u001b[0;32mreturn\u001b[0m \u001b[0mself\u001b[0m\u001b[0;34m.\u001b[0m\u001b[0m_legacy_call\u001b[0m\u001b[0;34m(\u001b[0m\u001b[0minputs\u001b[0m\u001b[0;34m)\u001b[0m\u001b[0;34m\u001b[0m\u001b[0;34m\u001b[0m\u001b[0m\n\u001b[1;32m   2714\u001b[0m \u001b[0;34m\u001b[0m\u001b[0m\n\u001b[0;32m-> 2715\u001b[0;31m             \u001b[0;32mreturn\u001b[0m \u001b[0mself\u001b[0m\u001b[0;34m.\u001b[0m\u001b[0m_call\u001b[0m\u001b[0;34m(\u001b[0m\u001b[0minputs\u001b[0m\u001b[0;34m)\u001b[0m\u001b[0;34m\u001b[0m\u001b[0;34m\u001b[0m\u001b[0m\n\u001b[0m\u001b[1;32m   2716\u001b[0m         \u001b[0;32melse\u001b[0m\u001b[0;34m:\u001b[0m\u001b[0;34m\u001b[0m\u001b[0;34m\u001b[0m\u001b[0m\n\u001b[1;32m   2717\u001b[0m             \u001b[0;32mif\u001b[0m \u001b[0mpy_any\u001b[0m\u001b[0;34m(\u001b[0m\u001b[0mis_tensor\u001b[0m\u001b[0;34m(\u001b[0m\u001b[0mx\u001b[0m\u001b[0;34m)\u001b[0m \u001b[0;32mfor\u001b[0m \u001b[0mx\u001b[0m \u001b[0;32min\u001b[0m \u001b[0minputs\u001b[0m\u001b[0;34m)\u001b[0m\u001b[0;34m:\u001b[0m\u001b[0;34m\u001b[0m\u001b[0;34m\u001b[0m\u001b[0m\n",
      "\u001b[0;32m~/miniconda3/envs/tf_warmup/lib/python3.6/site-packages/keras/backend/tensorflow_backend.py\u001b[0m in \u001b[0;36m_call\u001b[0;34m(self, inputs)\u001b[0m\n\u001b[1;32m   2673\u001b[0m             \u001b[0mfetched\u001b[0m \u001b[0;34m=\u001b[0m \u001b[0mself\u001b[0m\u001b[0;34m.\u001b[0m\u001b[0m_callable_fn\u001b[0m\u001b[0;34m(\u001b[0m\u001b[0;34m*\u001b[0m\u001b[0marray_vals\u001b[0m\u001b[0;34m,\u001b[0m \u001b[0mrun_metadata\u001b[0m\u001b[0;34m=\u001b[0m\u001b[0mself\u001b[0m\u001b[0;34m.\u001b[0m\u001b[0mrun_metadata\u001b[0m\u001b[0;34m)\u001b[0m\u001b[0;34m\u001b[0m\u001b[0;34m\u001b[0m\u001b[0m\n\u001b[1;32m   2674\u001b[0m         \u001b[0;32melse\u001b[0m\u001b[0;34m:\u001b[0m\u001b[0;34m\u001b[0m\u001b[0;34m\u001b[0m\u001b[0m\n\u001b[0;32m-> 2675\u001b[0;31m             \u001b[0mfetched\u001b[0m \u001b[0;34m=\u001b[0m \u001b[0mself\u001b[0m\u001b[0;34m.\u001b[0m\u001b[0m_callable_fn\u001b[0m\u001b[0;34m(\u001b[0m\u001b[0;34m*\u001b[0m\u001b[0marray_vals\u001b[0m\u001b[0;34m)\u001b[0m\u001b[0;34m\u001b[0m\u001b[0;34m\u001b[0m\u001b[0m\n\u001b[0m\u001b[1;32m   2676\u001b[0m         \u001b[0;32mreturn\u001b[0m \u001b[0mfetched\u001b[0m\u001b[0;34m[\u001b[0m\u001b[0;34m:\u001b[0m\u001b[0mlen\u001b[0m\u001b[0;34m(\u001b[0m\u001b[0mself\u001b[0m\u001b[0;34m.\u001b[0m\u001b[0moutputs\u001b[0m\u001b[0;34m)\u001b[0m\u001b[0;34m]\u001b[0m\u001b[0;34m\u001b[0m\u001b[0;34m\u001b[0m\u001b[0m\n\u001b[1;32m   2677\u001b[0m \u001b[0;34m\u001b[0m\u001b[0m\n",
      "\u001b[0;32m~/miniconda3/envs/tf_warmup/lib/python3.6/site-packages/tensorflow/python/client/session.py\u001b[0m in \u001b[0;36m__call__\u001b[0;34m(self, *args, **kwargs)\u001b[0m\n\u001b[1;32m   1380\u001b[0m           ret = tf_session.TF_SessionRunCallable(\n\u001b[1;32m   1381\u001b[0m               \u001b[0mself\u001b[0m\u001b[0;34m.\u001b[0m\u001b[0m_session\u001b[0m\u001b[0;34m.\u001b[0m\u001b[0m_session\u001b[0m\u001b[0;34m,\u001b[0m \u001b[0mself\u001b[0m\u001b[0;34m.\u001b[0m\u001b[0m_handle\u001b[0m\u001b[0;34m,\u001b[0m \u001b[0margs\u001b[0m\u001b[0;34m,\u001b[0m \u001b[0mstatus\u001b[0m\u001b[0;34m,\u001b[0m\u001b[0;34m\u001b[0m\u001b[0;34m\u001b[0m\u001b[0m\n\u001b[0;32m-> 1382\u001b[0;31m               run_metadata_ptr)\n\u001b[0m\u001b[1;32m   1383\u001b[0m         \u001b[0;32mif\u001b[0m \u001b[0mrun_metadata\u001b[0m\u001b[0;34m:\u001b[0m\u001b[0;34m\u001b[0m\u001b[0;34m\u001b[0m\u001b[0m\n\u001b[1;32m   1384\u001b[0m           \u001b[0mproto_data\u001b[0m \u001b[0;34m=\u001b[0m \u001b[0mtf_session\u001b[0m\u001b[0;34m.\u001b[0m\u001b[0mTF_GetBuffer\u001b[0m\u001b[0;34m(\u001b[0m\u001b[0mrun_metadata_ptr\u001b[0m\u001b[0;34m)\u001b[0m\u001b[0;34m\u001b[0m\u001b[0;34m\u001b[0m\u001b[0m\n",
      "\u001b[0;31mKeyboardInterrupt\u001b[0m: "
     ]
    }
   ],
   "source": [
    "# Train the model\n",
    "opt = keras.optimizers.SGD(lr=0.1, decay=1e-6, momentum=0.9)\n",
    "train_model.compile(opt, 'categorical_crossentropy')\n",
    "generate_stuff = keras.callbacks.LambdaCallback(on_epoch_end=lambda epoch, logs: generate_n(5))\n",
    "train_model.fit(x_in,\n",
    "                x_out,\n",
    "                #validation_split=1/10,\n",
    "                epochs=20,\n",
    "                batch_size=1,\n",
    "                callbacks=[generate_stuff])"
   ]
  },
  {
   "cell_type": "code",
   "execution_count": 3,
   "metadata": {},
   "outputs": [],
   "source": [
    "#train_model.save('.models/train_model/model.h5')\n",
    "#inf_model.save('.models/inf_model/model.h5')"
   ]
  },
  {
   "cell_type": "code",
   "execution_count": 157,
   "metadata": {},
   "outputs": [
    {
     "name": "stdout",
     "output_type": "stream",
     "text": [
      "SOISAMINE BODRODE\n",
      "TATININAZ FLORINE HAALB\n",
      "ADIPTIDE\n",
      "NGRLOTERER TRIONI-IDE\n",
      "FROTINUZONINOPE\n"
     ]
    }
   ],
   "source": [
    "generate_n(5)"
   ]
  }
 ],
 "metadata": {
  "kernelspec": {
   "display_name": "Python 3",
   "language": "python",
   "name": "python3"
  },
  "language_info": {
   "codemirror_mode": {
    "name": "ipython",
    "version": 3
   },
   "file_extension": ".py",
   "mimetype": "text/x-python",
   "name": "python",
   "nbconvert_exporter": "python",
   "pygments_lexer": "ipython3",
   "version": "3.6.8"
  }
 },
 "nbformat": 4,
 "nbformat_minor": 2
}
